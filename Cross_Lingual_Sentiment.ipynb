{
  "nbformat": 4,
  "nbformat_minor": 0,
  "metadata": {
    "colab": {
      "provenance": [],
      "authorship_tag": "ABX9TyMgJD7t0/ZnVhJkZGG9f6iO",
      "include_colab_link": true
    },
    "kernelspec": {
      "name": "python3",
      "display_name": "Python 3"
    },
    "language_info": {
      "name": "python"
    }
  },
  "cells": [
    {
      "cell_type": "markdown",
      "metadata": {
        "id": "view-in-github",
        "colab_type": "text"
      },
      "source": [
        "<a href=\"https://colab.research.google.com/github/caominhtrivo/Cross-Lingual-Sentiment/blob/main/Cross_Lingual_Sentiment.ipynb\" target=\"_parent\"><img src=\"https://colab.research.google.com/assets/colab-badge.svg\" alt=\"Open In Colab\"/></a>"
      ]
    },
    {
      "cell_type": "code",
      "execution_count": null,
      "metadata": {
        "id": "o7PLSmiQt-E2"
      },
      "outputs": [],
      "source": [
        "import transformers\n",
        "from transformers import pipeline"
      ]
    },
    {
      "cell_type": "code",
      "source": [
        "classifier = pipeline(\"sentiment-analysis\")"
      ],
      "metadata": {
        "id": "Wi_yfn2CuDV_"
      },
      "execution_count": null,
      "outputs": []
    },
    {
      "cell_type": "markdown",
      "source": [
        "The upcoming output is wrong"
      ],
      "metadata": {
        "id": "DUuyX386vQ5a"
      }
    },
    {
      "cell_type": "code",
      "source": [
        "classifier(\"Toi ghet em\")"
      ],
      "metadata": {
        "id": "S21iqeQouZdR"
      },
      "execution_count": null,
      "outputs": []
    },
    {
      "cell_type": "code",
      "source": [
        "#translate from English to Vietnamese\n",
        "Eng_VN = pipeline(\"translation_en_to_vi\", model = \"Helsinki-NLP/opus-mt-en-vi\")\n",
        "Eng_VN(\"Hello\")\n",
        "#translate from Vietnamese to English\n",
        "VN_Eng = pipeline(\"translation_vi_to_en\", model = \"Helsinki-NLP/opus-mt-vi-en\")\n",
        "VN_Eng(\"Xin chào\")"
      ],
      "metadata": {
        "collapsed": true,
        "id": "dz8J2Td8umO3"
      },
      "execution_count": null,
      "outputs": []
    },
    {
      "cell_type": "code",
      "source": [
        "import gradio as gr\n",
        "def Check(sentence):\n",
        "  english_text = VN_Eng(sentence)[0]['translation_text']\n",
        "  sentiment = classifier(english_text)\n",
        "  return sentiment[0]['label']\n",
        "\n",
        "demo = gr.Interface(fn = Check, inputs = \"text\", outputs = \"text\")\n",
        "demo.launch(share=True) # Add share=True for Colab"
      ],
      "metadata": {
        "id": "0R1JaY8SwTgk"
      },
      "execution_count": null,
      "outputs": []
    }
  ]
}